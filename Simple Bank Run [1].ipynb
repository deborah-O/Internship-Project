{
 "cells": [
  {
   "cell_type": "code",
   "execution_count": null,
   "metadata": {},
   "outputs": [],
   "source": [
    "class Agent():\n",
    "       def __init__(patient, money = 0, belief = 1):\n",
    "            self.patience = patient\n",
    "            self.money = money \n",
    "            self.belief = belief\n",
    "            \n",
    "        def patient(self):\n",
    "            "
   ]
  },
  {
   "cell_type": "code",
   "execution_count": null,
   "metadata": {},
   "outputs": [],
   "source": [
    "class Model():\n",
    "    def __init__():\n",
    "        \n",
    "        \n",
    "    def timestep(self):\n",
    "        for t in range(10):\n",
    "            self.qual_info = (random.random(0.0,1.0))\n",
    "            for i in agents:\n",
    "                \n",
    "                if Agent.patience == True:\n",
    "                    if self.qual_info >= 0.5:\n",
    "                        Agent.belief -= 2\n",
    "                    else: \n",
    "                        Agent.belief -= 1\n",
    "                else:\n",
    "                    Agent.belief -= 2\n",
    "                \n",
    "                if Agent.patience == True:\n",
    "                    if number_imp > 5\n",
    "                    or \n",
    "                    if Agent.belief =<0.5:\n",
    "                        Agent.patience = !False\n",
    "                 \n",
    "                if Agent.patience == False:\n",
    "                    Agent.money +=1\n",
    "                    \n",
    "            \"\"\"\n",
    "            Not sure how to add the add to list function,\n",
    "            \"\"\"    "
   ]
  }
 ],
 "metadata": {
  "kernelspec": {
   "display_name": "Python 3",
   "language": "python",
   "name": "python3"
  },
  "language_info": {
   "codemirror_mode": {
    "name": "ipython",
    "version": 3
   },
   "file_extension": ".py",
   "mimetype": "text/x-python",
   "name": "python",
   "nbconvert_exporter": "python",
   "pygments_lexer": "ipython3",
   "version": "3.7.3"
  }
 },
 "nbformat": 4,
 "nbformat_minor": 2
}
